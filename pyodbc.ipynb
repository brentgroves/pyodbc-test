{
 "cells": [
  {
   "cell_type": "code",
   "execution_count": 1,
   "id": "caa90f74",
   "metadata": {},
   "outputs": [],
   "source": [
    "import pyodbc"
   ]
  },
  {
   "cell_type": "code",
   "execution_count": 2,
   "id": "bb91a2cd",
   "metadata": {},
   "outputs": [],
   "source": [
    "server = 'tcp:mgsqlmi.public.48d444e7f69b.database.windows.net,3342' "
   ]
  },
  {
   "cell_type": "code",
   "execution_count": 3,
   "id": "7f5f6962",
   "metadata": {},
   "outputs": [],
   "source": [
    "database = 'mgdw' "
   ]
  },
  {
   "cell_type": "code",
   "execution_count": 4,
   "id": "d7411773",
   "metadata": {},
   "outputs": [],
   "source": [
    "username = 'mgadmin'"
   ]
  },
  {
   "cell_type": "code",
   "execution_count": 5,
   "id": "b1fe5afd",
   "metadata": {},
   "outputs": [],
   "source": [
    "password = 'WeDontSharePasswords1!' "
   ]
  },
  {
   "cell_type": "code",
   "execution_count": 6,
   "id": "19ece305",
   "metadata": {},
   "outputs": [],
   "source": [
    "cnxn = pyodbc.connect('DRIVER={ODBC Driver 18 for SQL Server};SERVER='+server+';DATABASE='+database+';UID='+username+';PWD='+ password)"
   ]
  },
  {
   "cell_type": "code",
   "execution_count": 9,
   "id": "8be09a7a",
   "metadata": {},
   "outputs": [],
   "source": [
    "cursor = cnxn.cursor()"
   ]
  },
  {
   "cell_type": "code",
   "execution_count": 10,
   "id": "25572478",
   "metadata": {},
   "outputs": [
    {
     "data": {
      "text/plain": [
       "<pyodbc.Cursor at 0x7f19017441b0>"
      ]
     },
     "execution_count": 10,
     "metadata": {},
     "output_type": "execute_result"
    }
   ],
   "source": [
    "cursor.execute(\"SELECT @@version;\")"
   ]
  },
  {
   "cell_type": "code",
   "execution_count": 11,
   "id": "6c328c91",
   "metadata": {},
   "outputs": [],
   "source": [
    "row = cursor.fetchone()"
   ]
  },
  {
   "cell_type": "code",
   "execution_count": 12,
   "id": "20284206",
   "metadata": {},
   "outputs": [
    {
     "name": "stdout",
     "output_type": "stream",
     "text": [
      "Microsoft SQL Azure (RTM) - 12.0.2000.8 \n",
      "\tJan 26 2022 22:23:07 \n",
      "\tCopyright (C) 2019 Microsoft Corporation\n",
      "\n"
     ]
    }
   ],
   "source": [
    "while row: \n",
    "    print(row[0])\n",
    "    row = cursor.fetchone()"
   ]
  },
  {
   "cell_type": "code",
   "execution_count": null,
   "id": "165ce295",
   "metadata": {},
   "outputs": [],
   "source": []
  }
 ],
 "metadata": {
  "kernelspec": {
   "display_name": "Python 3 (ipykernel)",
   "language": "python",
   "name": "python3"
  },
  "language_info": {
   "codemirror_mode": {
    "name": "ipython",
    "version": 3
   },
   "file_extension": ".py",
   "mimetype": "text/x-python",
   "name": "python",
   "nbconvert_exporter": "python",
   "pygments_lexer": "ipython3",
   "version": "3.9.7"
  }
 },
 "nbformat": 4,
 "nbformat_minor": 5
}
